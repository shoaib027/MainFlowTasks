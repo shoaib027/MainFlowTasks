{
 "cells": [
  {
   "cell_type": "code",
   "execution_count": 23,
   "id": "dd23939a-7c96-456e-a916-2f45705cce37",
   "metadata": {},
   "outputs": [],
   "source": [
    "#Creating a list\n",
    "my_list = [5, 2, 3, 4, 6]"
   ]
  },
  {
   "cell_type": "code",
   "execution_count": 24,
   "id": "4f8505e7-6d3e-4a63-939f-4184cea25fe0",
   "metadata": {},
   "outputs": [],
   "source": [
    "#Adding single element to the last of the list\n",
    "my_list.append(10)"
   ]
  },
  {
   "cell_type": "code",
   "execution_count": 25,
   "id": "10f051d1-3aca-4695-96bd-68a653c01d34",
   "metadata": {},
   "outputs": [
    {
     "name": "stdout",
     "output_type": "stream",
     "text": [
      "[5, 2, 3, 4, 6, 10]\n"
     ]
    }
   ],
   "source": [
    "print(my_list)"
   ]
  },
  {
   "cell_type": "code",
   "execution_count": 26,
   "id": "36fdbe16-fc0b-4a4b-bf6b-c20e26a13422",
   "metadata": {},
   "outputs": [],
   "source": [
    "#Appending multiple elements\n",
    "my_list.extend([20, 21,31,\"Happy\"])"
   ]
  },
  {
   "cell_type": "code",
   "execution_count": 27,
   "id": "ea049b8a-fce0-45c6-a006-64cc0959cded",
   "metadata": {},
   "outputs": [
    {
     "name": "stdout",
     "output_type": "stream",
     "text": [
      "[5, 2, 3, 4, 6, 10, 20, 21, 31, 'Happy']\n"
     ]
    }
   ],
   "source": [
    "print(my_list)"
   ]
  },
  {
   "cell_type": "code",
   "execution_count": 28,
   "id": "35eb165a-b55b-4c00-a2a0-4254c340796b",
   "metadata": {},
   "outputs": [
    {
     "data": {
      "text/plain": [
       "'Happy'"
      ]
     },
     "execution_count": 28,
     "metadata": {},
     "output_type": "execute_result"
    }
   ],
   "source": [
    "#Pop the last element\n",
    "my_list.pop()"
   ]
  },
  {
   "cell_type": "code",
   "execution_count": 30,
   "id": "25fed7fc-6a63-44fd-8a14-7804686127a2",
   "metadata": {},
   "outputs": [],
   "source": [
    "#Use to sort the dictionary\n",
    "my_list.sort()"
   ]
  },
  {
   "cell_type": "code",
   "execution_count": 31,
   "id": "92e26064-19a6-498f-a7ba-851b68b2b52b",
   "metadata": {},
   "outputs": [
    {
     "name": "stdout",
     "output_type": "stream",
     "text": [
      "[2, 3, 4, 5, 6, 10, 20, 21, 31]\n"
     ]
    }
   ],
   "source": [
    "print(my_list)"
   ]
  },
  {
   "cell_type": "code",
   "execution_count": 32,
   "id": "83a960d3-39f6-4edf-878b-7238762d33a3",
   "metadata": {},
   "outputs": [],
   "source": [
    "#Use to remove the first occurence of the element\n",
    "my_list.remove(4)"
   ]
  },
  {
   "cell_type": "code",
   "execution_count": 33,
   "id": "1c053922-9c47-4675-a51b-c8b887e9b890",
   "metadata": {},
   "outputs": [
    {
     "name": "stdout",
     "output_type": "stream",
     "text": [
      "[2, 3, 5, 6, 10, 20, 21, 31]\n"
     ]
    }
   ],
   "source": [
    "print(my_list)"
   ]
  },
  {
   "cell_type": "code",
   "execution_count": 34,
   "id": "baa8cdd2-5495-4222-96d3-66500760d331",
   "metadata": {},
   "outputs": [
    {
     "name": "stdout",
     "output_type": "stream",
     "text": [
      "2\n"
     ]
    }
   ],
   "source": [
    "#Accessing the element with index\n",
    "print(my_list[0])"
   ]
  },
  {
   "cell_type": "code",
   "execution_count": 36,
   "id": "20bf71c8-c3ba-493d-a751-b27f55682caf",
   "metadata": {},
   "outputs": [],
   "source": [
    "#Modify element\n",
    "my_list[0] = 1"
   ]
  },
  {
   "cell_type": "code",
   "execution_count": 37,
   "id": "38b84411-85f8-4920-8a5f-6ba46aad5e4b",
   "metadata": {},
   "outputs": [
    {
     "name": "stdout",
     "output_type": "stream",
     "text": [
      "[1, 3, 5, 6, 10, 20, 21, 31]\n"
     ]
    }
   ],
   "source": [
    "print(my_list)"
   ]
  },
  {
   "cell_type": "code",
   "execution_count": 59,
   "id": "d9dab536-3996-432a-89b2-274d10fc75d0",
   "metadata": {},
   "outputs": [],
   "source": [
    "#Creating a set\n",
    "my_set = {1,\"Happy\",\"5\", 6}"
   ]
  },
  {
   "cell_type": "code",
   "execution_count": 60,
   "id": "ff5f9126-73c4-4241-b299-4cdcc599f28b",
   "metadata": {},
   "outputs": [],
   "source": [
    "#Adding element to the set\n",
    "my_set.add(12)"
   ]
  },
  {
   "cell_type": "code",
   "execution_count": 61,
   "id": "9ab62563-402c-4721-a0b7-7f1d91d1e298",
   "metadata": {},
   "outputs": [
    {
     "name": "stdout",
     "output_type": "stream",
     "text": [
      "{1, 'Happy', 6, 12, '5'}\n"
     ]
    }
   ],
   "source": [
    "print(my_set)"
   ]
  },
  {
   "cell_type": "code",
   "execution_count": 62,
   "id": "349882bb-3624-455b-930f-76990d1e2e44",
   "metadata": {},
   "outputs": [],
   "source": [
    "#Modifying set\n",
    "my_set.update([12,13])"
   ]
  },
  {
   "cell_type": "code",
   "execution_count": 63,
   "id": "4f448b0b-ca8a-4dd1-b6bb-d0510a476427",
   "metadata": {},
   "outputs": [
    {
     "name": "stdout",
     "output_type": "stream",
     "text": [
      "{1, 'Happy', 6, 12, 13, '5'}\n"
     ]
    }
   ],
   "source": [
    "print(my_set)"
   ]
  },
  {
   "cell_type": "code",
   "execution_count": 64,
   "id": "802a4b51-1db2-449b-bb5a-f951eb8845dd",
   "metadata": {},
   "outputs": [],
   "source": [
    "#Removes the element if present and raises an error if absent\n",
    "my_set.remove('5')"
   ]
  },
  {
   "cell_type": "code",
   "execution_count": 65,
   "id": "046a05c0-a919-4b64-aa70-3ac218331224",
   "metadata": {},
   "outputs": [
    {
     "name": "stdout",
     "output_type": "stream",
     "text": [
      "{1, 'Happy', 6, 12, 13}\n"
     ]
    }
   ],
   "source": [
    "print(my_set)"
   ]
  },
  {
   "cell_type": "code",
   "execution_count": 67,
   "id": "7ffc74b2-5e86-4807-8fec-7d066611f720",
   "metadata": {},
   "outputs": [],
   "source": [
    "#Removes the element if present but not raises any error if absent\n",
    "my_set.discard('Happy')"
   ]
  },
  {
   "cell_type": "code",
   "execution_count": 68,
   "id": "5487b4e0-84eb-413c-bdd3-903e9f944a52",
   "metadata": {},
   "outputs": [
    {
     "name": "stdout",
     "output_type": "stream",
     "text": [
      "{1, 6, 12, 13}\n"
     ]
    }
   ],
   "source": [
    "print(my_set)"
   ]
  },
  {
   "cell_type": "code",
   "execution_count": 70,
   "id": "3103c38f-1140-4523-9530-d695951818bb",
   "metadata": {},
   "outputs": [],
   "source": [
    "#'Happy' is not present but it will not give error\n",
    "my_set.discard('Happy')"
   ]
  },
  {
   "cell_type": "code",
   "execution_count": 72,
   "id": "6938cd74-50a1-44d2-bfd2-985c42beafc9",
   "metadata": {},
   "outputs": [],
   "source": [
    "#Creating a dictionary\n",
    "my_dictionary = {1: 'Happy', 'LA': 24}"
   ]
  },
  {
   "cell_type": "code",
   "execution_count": 74,
   "id": "9abff6d1-9687-407b-a47c-6b4e17ca7b36",
   "metadata": {},
   "outputs": [
    {
     "name": "stdout",
     "output_type": "stream",
     "text": [
      "24\n"
     ]
    }
   ],
   "source": [
    "#Accessing the value using key\n",
    "print(my_dictionary['LA'])"
   ]
  },
  {
   "cell_type": "code",
   "execution_count": 75,
   "id": "b8a628ff-c06d-4735-ab3b-2419827846b1",
   "metadata": {},
   "outputs": [],
   "source": [
    "#Adding element to dictionary\n",
    "my_dictionary[4] = 'Mona Lisa'"
   ]
  },
  {
   "cell_type": "code",
   "execution_count": 76,
   "id": "b120683d-06a4-4022-b06a-e2e006362698",
   "metadata": {},
   "outputs": [
    {
     "name": "stdout",
     "output_type": "stream",
     "text": [
      "{1: 'Happy', 'LA': 24, 4: 'Mona Lisa'}\n"
     ]
    }
   ],
   "source": [
    "print(my_dictionary)"
   ]
  },
  {
   "cell_type": "code",
   "execution_count": 77,
   "id": "b34c0a9f-daac-4a46-b462-73cf416908d9",
   "metadata": {},
   "outputs": [],
   "source": [
    "#Updating value against a key\n",
    "my_dictionary['LA'] = 42"
   ]
  },
  {
   "cell_type": "code",
   "execution_count": 78,
   "id": "91b63797-8cac-440b-bcc8-58938422439e",
   "metadata": {},
   "outputs": [
    {
     "name": "stdout",
     "output_type": "stream",
     "text": [
      "42\n"
     ]
    }
   ],
   "source": [
    "print(my_dictionary['LA'])"
   ]
  },
  {
   "cell_type": "code",
   "execution_count": 79,
   "id": "1e593599-2aeb-471c-9795-16fb75117109",
   "metadata": {},
   "outputs": [],
   "source": [
    "#Deleting an entry or key-value pair from the dictionary\n",
    "del my_dictionary[4]"
   ]
  },
  {
   "cell_type": "code",
   "execution_count": 80,
   "id": "74f53ca4-8e19-430a-bec7-6a1815ab3fdd",
   "metadata": {},
   "outputs": [
    {
     "name": "stdout",
     "output_type": "stream",
     "text": [
      "{1: 'Happy', 'LA': 42}\n"
     ]
    }
   ],
   "source": [
    "print(my_dictionary)"
   ]
  },
  {
   "cell_type": "code",
   "execution_count": null,
   "id": "063bcca5-ac09-41c1-985f-93d9b4b61e13",
   "metadata": {},
   "outputs": [],
   "source": []
  }
 ],
 "metadata": {
  "kernelspec": {
   "display_name": "Python 3 (ipykernel)",
   "language": "python",
   "name": "python3"
  },
  "language_info": {
   "codemirror_mode": {
    "name": "ipython",
    "version": 3
   },
   "file_extension": ".py",
   "mimetype": "text/x-python",
   "name": "python",
   "nbconvert_exporter": "python",
   "pygments_lexer": "ipython3",
   "version": "3.11.4"
  }
 },
 "nbformat": 4,
 "nbformat_minor": 5
}
